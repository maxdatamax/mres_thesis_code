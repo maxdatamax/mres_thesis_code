{
 "cells": [
  {
   "cell_type": "code",
   "execution_count": 1,
   "metadata": {
    "collapsed": true
   },
   "outputs": [],
   "source": [
    "# the code ref from tensorflow word2vec_basic.py\n",
    "from __future__ import absolute_import\n",
    "from __future__ import division\n",
    "from __future__ import print_function\n",
    "\n",
    "import collections\n",
    "import math\n",
    "import os\n",
    "import random\n",
    "\n",
    "import numpy as np\n",
    "from six.moves import xrange  # pylint: disable=redefined-builtin\n",
    "import tensorflow as tf\n",
    "\n",
    "import numpy as np\n",
    "import pandas as pd"
   ]
  },
  {
   "cell_type": "code",
   "execution_count": 2,
   "metadata": {
    "collapsed": true
   },
   "outputs": [],
   "source": [
    "fields_index = {} \n",
    "f = open('./data/ipinyou/field_cates_index_not_aligned.csv','r')\n",
    "for line in f.readlines():\n",
    "    field_name, indices = line.strip().split('\\t')\n",
    "    indices = np.array([int(i) for i in indices.split(',')])\n",
    "    fields_index[field_name] = indices"
   ]
  },
  {
   "cell_type": "code",
   "execution_count": 3,
   "metadata": {
    "collapsed": false
   },
   "outputs": [],
   "source": [
    "# fields_index"
   ]
  },
  {
   "cell_type": "code",
   "execution_count": 4,
   "metadata": {
    "collapsed": false
   },
   "outputs": [],
   "source": [
    "f = open('./data/ipinyou/training_not_aligned.csv','r')\n",
    "raw_data = []\n",
    "for line in f.readlines():\n",
    "    raw_data.append([int(x) for x in line.strip().split(',')])"
   ]
  },
  {
   "cell_type": "code",
   "execution_count": 5,
   "metadata": {
    "collapsed": false
   },
   "outputs": [],
   "source": [
    "reverse_dictionary_raw = np.array(pd.read_csv('./data/ipinyou/reverse_dictionary_not_aligned.csv',sep=',',header=None))\n",
    "reverse_dictionary = {}\n",
    "dictionary = {}"
   ]
  },
  {
   "cell_type": "code",
   "execution_count": 6,
   "metadata": {
    "collapsed": false
   },
   "outputs": [
    {
     "name": "stdout",
     "output_type": "stream",
     "text": [
      "vocabulary_size:  72746\n"
     ]
    }
   ],
   "source": [
    "vocabulary_size = 0\n",
    "for item in reverse_dictionary_raw:\n",
    "    reverse_dictionary[item[1]] = item[0]\n",
    "    dictionary[item[0]] = item[1]\n",
    "    if item[1] > vocabulary_size:\n",
    "        vocabulary_size = item[1]\n",
    "vocabulary_size = vocabulary_size + 1\n",
    "print('vocabulary_size: ',vocabulary_size)"
   ]
  },
  {
   "cell_type": "code",
   "execution_count": 7,
   "metadata": {
    "collapsed": false
   },
   "outputs": [],
   "source": [
    "# reverse_dictionary"
   ]
  },
  {
   "cell_type": "code",
   "execution_count": 8,
   "metadata": {
    "collapsed": false
   },
   "outputs": [],
   "source": [
    "data_index = 0\n",
    "def generate_batch(batch_size, num_skips):\n",
    "    global data_index\n",
    "    assert batch_size % num_skips == 0\n",
    "    batch = np.ndarray(shape=(batch_size), dtype=np.int32)\n",
    "    labels = np.ndarray(shape=(batch_size, 1), dtype=np.int32)\n",
    "    for i in range(batch_size // num_skips):\n",
    "        span = len(data[data_index])\n",
    "        label_index = random.randint(1, span - 1)  # target label at the center of the buffer\n",
    "        singe_data = data[data_index]\n",
    "        targets_to_avoid = [label_index]\n",
    "        target = label_index\n",
    "        for j in range(num_skips):\n",
    "            while target in targets_to_avoid:\n",
    "                target = random.randint(1, span - 1)\n",
    "            targets_to_avoid.append(target)\n",
    "            batch[i * num_skips + j] = singe_data[label_index]\n",
    "            labels[i * num_skips + j, 0] = singe_data[target]\n",
    "        data_index = (data_index + 1) % len(data)\n",
    "    return batch, labels\n",
    "\n",
    "# def generate_batch_cbow(data, batch_size, num_skips):\n",
    "#     '''\n",
    "#     Batch generator for CBOW (Continuous Bag of Words).\n",
    "#     '''\n",
    "#     global data_index\n",
    "#     batch = np.ndarray(shape=(batch_size, num_skips), dtype=np.int32)\n",
    "#     labels = np.ndarray(shape=(batch_size, 1), dtype=np.int32)\n",
    "    \n",
    "#     # move the sliding window\n",
    "#     for i in range(batch_size):\n",
    "#         span = len(data[data_index])\n",
    "#         label_index = random.randint(1, span - 1)\n",
    "#         singe_data = data[data_index]\n",
    "#         labels[i, 0] = singe_data[label_index]\n",
    "        \n",
    "#         targets_to_avoid = [label_index]\n",
    "#         target = label_index\n",
    "#         sample = []\n",
    "#         for j in range(num_skips):\n",
    "#             while target in targets_to_avoid:\n",
    "#                 target = random.randint(1, span - 1)\n",
    "#                 sample.append(singe_data[target])\n",
    "#         batch[i] = sample\n",
    "#         data_index = (data_index + 1) % len(data)\n",
    "#     return batch, labels"
   ]
  },
  {
   "cell_type": "code",
   "execution_count": 9,
   "metadata": {
    "collapsed": false
   },
   "outputs": [],
   "source": [
    "# generate_batch_cbow([range(10) for x in range(10),8,4)"
   ]
  },
  {
   "cell_type": "code",
   "execution_count": 10,
   "metadata": {
    "collapsed": true
   },
   "outputs": [],
   "source": [
    "data = raw_data"
   ]
  },
  {
   "cell_type": "code",
   "execution_count": null,
   "metadata": {
    "collapsed": false
   },
   "outputs": [],
   "source": [
    "batch_size = 32\n",
    "embedding_size = 32  # Dimension of the embedding vector.\n",
    "num_skips = 4         # How many times to reuse an input to generate a label.\n",
    "\n",
    "# We pick a random validation set to sample nearest neighbors. Here we limit the\n",
    "# validation samples to the words that have a low numeric ID, which by\n",
    "# construction are also the most frequent.\n",
    "valid_size = 16     # Random set of words to evaluate similarity on.\n",
    "valid_window = 100  # Only pick dev samples in the head of the distribution.\n",
    "valid_examples = np.random.choice(valid_window, valid_size, replace=False)\n",
    "num_sampled = 64    # Number of negative examples to sample.\n",
    "\n",
    "graph = tf.Graph()\n",
    "\n",
    "architecture = 'skip-gram' # or 'cbow'\n",
    "\n",
    "with graph.as_default():\n",
    "    # Input data.\n",
    "    if architecture == 'skip-gram':\n",
    "        train_inputs = tf.placeholder(tf.int32, shape=[batch_size])\n",
    "    elif architecture == 'cbow':\n",
    "        train_inputs = tf.placeholder(tf.int32, shape=[batch_size, num_skips])\n",
    "#     train_inputs = tf.placeholder(tf.int32, shape=[batch_size])\n",
    "    train_labels = tf.placeholder(tf.int32, shape=[batch_size, 1])\n",
    "    valid_dataset = tf.constant(valid_examples, dtype=tf.int32)\n",
    "\n",
    "    # Ops and variables pinned to the CPU because of missing GPU implementation\n",
    "    with tf.device('/cpu:0'):\n",
    "    # Look up embeddings for inputs.\n",
    "        embeddings = tf.Variable(\n",
    "                tf.random_normal([vocabulary_size,\n",
    "                                  embedding_size],\n",
    "                                 stddev=1.0 / np.sqrt(embedding_size)\n",
    "                                 ))\n",
    "#         embed = tf.nn.embedding_lookup(embeddings, train_inputs)\n",
    "\n",
    "    # Construct the variables for the NCE loss\n",
    "    weights = tf.Variable(\n",
    "        tf.truncated_normal([vocabulary_size, embedding_size],\n",
    "                            stddev=1.0 / math.sqrt(embedding_size)))\n",
    "    biases = tf.Variable(tf.zeros([vocabulary_size]))\n",
    "    \n",
    "    if architecture == 'skip-gram':\n",
    "        embed = tf.nn.embedding_lookup(embeddings, train_inputs)\n",
    "    elif architecture == 'cbow':\n",
    "        embed = tf.zeros([batch_size, embedding_size])\n",
    "        for j in range(num_skips):\n",
    "            embed += tf.nn.embedding_lookup(embeddings, train_inputs[:, j])\n",
    "    \n",
    "    # Compute the average NCE loss for the batch.\n",
    "    # tf.nce_loss automatically draws a new sample of the negative labels each\n",
    "    # time we evaluate the loss.\n",
    "    \n",
    "    if architecture == 'skip-gram':\n",
    "         losses = tf.nn.nce_loss(weights, biases, embed, train_labels,\n",
    "                     num_sampled, vocabulary_size)\n",
    "    elif architecture == 'cbow':\n",
    "         losses = tf.nn.sampled_softmax_loss(weights, biases, embed, train_labels,\n",
    "                     num_sampled, vocabulary_size)\n",
    "    \n",
    "    loss = tf.reduce_mean(losses)\n",
    "\n",
    "    # Construct the SGD optimizer using a learning rate of 1.0.\n",
    "    optimizer = tf.train.GradientDescentOptimizer(1.0).minimize(loss)\n",
    "\n",
    "    # Compute the cosine similarity between minibatch examples and all embeddings.\n",
    "    norm = tf.sqrt(tf.reduce_sum(tf.square(embeddings), 1, keep_dims=True))\n",
    "    normalized_embeddings = embeddings / norm\n",
    "    valid_embeddings = tf.nn.embedding_lookup(\n",
    "      normalized_embeddings, valid_dataset)\n",
    "    similarity = tf.matmul(\n",
    "      valid_embeddings, normalized_embeddings, transpose_b=True)\n",
    "    \n",
    "    field_cates = tf.placeholder(dtype=tf.int32)\n",
    "    field_embs = tf.gather(embeddings, field_cates)\n",
    "    center_point = tf.reduce_mean(field_embs, 0)\n",
    "    field_embs_shape = field_cates.get_shape()\n",
    "#     print(field_embs_shape)\n",
    "#     center_point = tf.tile(center_point,[field_embs_shape[0],1])\n",
    "    avg_distance = tf.reduce_mean(tf.sqrt(tf.reduce_sum(tf.pow(tf.sub(center_point, field_embs), 2),1)),0)\n",
    "#     avg_distance = tf.sqrt(tf.reduce_sum(tf.pow(tf.sub(center_point, field_embs), 2),1))\n",
    "    # Add variable initializer.\n",
    "    init = tf.initialize_all_variables()\n",
    "    "
   ]
  },
  {
   "cell_type": "code",
   "execution_count": null,
   "metadata": {
    "collapsed": false
   },
   "outputs": [
    {
     "name": "stdout",
     "output_type": "stream",
     "text": [
      "Initialized\n",
      "Average loss at step  0 :  319.890625\n",
      "Nearest to ad_slot_id_News_F_Width1: ip_183.162.143.*, ip_221.1.80.*, ip_49.117.104.*, ip_113.89.250.*, ip_59.40.50.*, ip_101.26.120.*, ip_110.16.65.*, ad_slot_id_3032267309,\n",
      "Nearest to ad_slot_visibility_2: ip_111.113.12.*, ip_124.134.220.*, ip_124.114.201.*, ip_220.189.228.*, ip_183.65.9.*, url_fcdea98715e0350c6c4fbc148766a5dc, ip_222.178.192.*, ip_125.39.16.*,\n",
      "Nearest to hour_18: ip_60.190.25.*, ip_61.182.49.*, domain_trqRTu5YX59_FsKY5ST_U_, ip_113.118.137.*, ip_120.15.67.*, ip_183.11.53.*, ip_220.189.236.*, ip_121.62.210.*,\n",
      "Nearest to ad_slot_floor_price_50: url_45e463b59b59faf4b0d4bdc2a6dbacb, ip_211.142.71.*, url_1c198c5e1d9e6130fc5f6083b33ef0b4, ip_222.163.24.*, url_f2a72d031e0c7cd574d13316e999e513, ip_218.90.75.*, ad_slot_id_3013580233, url_f0a2f59c1949cccd3270b578c73cdba0,\n",
      "Nearest to user_tags_Long-term interest/3c: ad_slot_id_1206210222, ip_124.115.106.*, ip_222.78.75.*, ip_119.130.203.*, url_745d40a1fc7d5db4f310efc170cbc2eb, ip_118.80.193.*, ip_124.119.224.*, domain_DF9blS9YBquIgqK4wJB,\n",
      "Nearest to user_tags_Long-term interest/travel&outdoors: ip_183.66.156.*, url_1deda55a0968e55f1559ff78d67de704, url_c71ed04df719a90483b5ae194bcdf82e, ad_slot_id_3801613666, url_52c7d6b52d5a398ac52574491e783662, ip_180.141.106.*, ip_219.148.176.*, ip_121.224.81.*,\n",
      "Nearest to hour_19: ip_221.6.97.*, ip_101.66.127.*, ip_114.250.92.*, ip_60.172.159.*, ip_113.224.56.*, ip_222.161.2.*, ip_110.229.16.*, url_1516b4d7d8fd6fb64c8b611b9beef63b,\n",
      "Nearest to domain_31xSTvprdN1RFt: ip_183.224.195.*, ip_116.224.129.*, url_438f8fcfd3c26f17ff8658ca3f7e9096, ip_221.239.112.*, ad_slot_id_3415742482, ip_59.55.130.*, ad_slot_id_749955964, ip_110.180.206.*,\n",
      "Nearest to ad_slot_height_280: ip_58.18.94.*, ip_171.36.214.*, ip_218.24.4.*, domain_eKMbGpf0G99f1m54, ip_60.188.63.*, ip_122.226.58.*, ad_slot_id_2300077906, ip_122.157.115.*,\n",
      "Nearest to region_guangdong: ip_211.139.21.*, ip_219.136.22.*, url_1b19018d1eb5187f38b7da03db9129aa, ip_117.89.23.*, ad_slot_id_mm_14260152_3191450_11075439, ip_111.185.124.*, url_d0152f2b316a6b238d8a22f764cd813, ip_14.150.196.*,\n",
      "Nearest to user_tags_Long-term interest/online literature: ip_221.1.5.*, ip_118.114.113.*, url_19aaefa3211bb67323c644451de10aaf, ad_slot_id_3701887148, ip_218.4.202.*, ip_121.34.177.*, ip_58.48.211.*, domain_DSMJquMuX5sUgMmbJFEWvpdh,\n",
      "Nearest to ad_slot_width_250: url_58db151b751233a86a011833fd6a9506, ad_slot_height_600, ip_36.42.237.*, user_agent_browser_ie, url_849585910e1003103758435ca65c1c00, url_5f755a069a07d95f8b946395d223b788, url_2e3afb53994b60004974404d7f749969, ad_exchange_2,\n",
      "Nearest to weekday_2: ip_120.5.12.*, url_e89714ab477cd89ec8d846a70d6a4feb, ip_221.192.240.*, ip_58.215.22.*, ip_117.12.130.*, domain_trqRTJkyBTa7gspy, ip_27.46.43.*, ip_124.128.46.*,\n",
      "Nearest to ad_slot_floor_price_20: url_8d515ddcf54b2465bf05015666593d0, url_ae1beb1ef5aefe390286b41d01f754f6, url_1ef91b9bdf05fd9240c1c4b5af4580ed, domain_tApgqvdmQQ5o1mu8uKN9Uvun-oM8Sd1d7S51NpmLs7, url_43799f8f1febd079e77c7362db82af5c, ip_60.13.142.*, ip_221.193.235.*, ip_115.168.77.*,\n",
      "Nearest to ad_slot_floor_price_70: ip_180.175.107.*, ip_119.191.183.*, ip_111.194.36.*, ip_124.67.237.*, ip_182.135.185.*, url_29194a0c7d80596595bb574c1c647506, url_bf34f0b94be4b3c825eefc946897efc2, ip_59.61.236.*,\n",
      "Nearest to hour_10: ip_113.135.180.*, ad_slot_id_3042444517, ip_60.191.241.*, ip_119.131.27.*, ip_1.25.201.*, ip_223.14.62.*, ip_117.88.215.*, ip_222.134.110.*,\n",
      "avg distance for field: city : [0.99439371]\n",
      "avg distance for field: domain : [0.99472904]\n",
      "avg distance for field: ad_slot_visibility : [0.8248322]\n",
      "avg distance for field: user_id : [1.0177692]\n",
      "avg distance for field: ad_slot_width : [1.0137421]\n",
      "avg distance for field: ad_slot_format : [0.78096557]\n",
      "avg distance for field: url : [0.99208748]\n",
      "avg distance for field: ip : [0.99294657]\n",
      "avg distance for field: creative_id : [0.94462186]\n",
      "avg distance for field: hour : [1.0249074]\n",
      "avg distance for field: ad_slot_floor_price : [1.0048982]\n",
      "avg distance for field: weekday : [0.87884235]\n",
      "avg distance for field: user_agent : [0.92698133]\n",
      "avg distance for field: ad_exchange : [0.79526609]\n",
      "avg distance for field: key_page_url : [0.83138722]\n",
      "avg distance for field: ad_slot_id : [0.9928211]\n",
      "avg distance for field: region : [0.99797285]\n",
      "avg distance for field: ad_slot_height : [0.97198707]\n",
      "avg distance for field: user_tags : [0.9838199]\n",
      "avg distance for all field: 0.945525\n"
     ]
    }
   ],
   "source": [
    "num_steps = 1000001\n",
    "\n",
    "with tf.Session(graph=graph) as session:\n",
    "    # We must initialize all variables before we use them.\n",
    "    init.run()\n",
    "    print(\"Initialized\")\n",
    "\n",
    "    average_loss = 0\n",
    "    for step in xrange(num_steps):\n",
    "        batch_inputs, batch_labels = generate_batch(\n",
    "            batch_size, num_skips)\n",
    "        feed_dict = {train_inputs : batch_inputs, train_labels : batch_labels}\n",
    "\n",
    "    # We perform one update step by evaluating the optimizer op (including it\n",
    "    # in the list of returned values for session.run()\n",
    "        _, loss_val = session.run([optimizer, loss], feed_dict=feed_dict)\n",
    "        average_loss += loss_val\n",
    "\n",
    "        if step % 1000000 == 0:\n",
    "            if step > 0:\n",
    "                average_loss /= 1000000\n",
    "            # The average loss is an estimate of the loss over the last 2000 batches.\n",
    "            print(\"Average loss at step \", step, \": \", average_loss)\n",
    "            average_loss = 0\n",
    "\n",
    "    # Note that this is expensive (~20% slowdown if computed every 500 steps)\n",
    "        if step % 1000000 == 0:\n",
    "            sim = similarity.eval()\n",
    "            for i in xrange(valid_size):\n",
    "                valid_word = reverse_dictionary[valid_examples[i]]\n",
    "                top_k = 8 # number of nearest neighbors\n",
    "                nearest = (-sim[i, :]).argsort()[1:top_k+1]\n",
    "                log_str = \"Nearest to %s:\" % valid_word\n",
    "                for k in xrange(top_k):\n",
    "                    close_word = reverse_dictionary[nearest[k]]\n",
    "                    log_str = \"%s %s,\" % (log_str, close_word)\n",
    "                print(log_str)\n",
    "            avg_distacnes = []\n",
    "            for field_name in fields_index.keys():\n",
    "                field_indices = fields_index.get(field_name)\n",
    "                field_feed_dict = {field_cates: field_indices}\n",
    "                distance = session.run([avg_distance], feed_dict=field_feed_dict)\n",
    "                avg_distacnes.extend(distance)\n",
    "                print('avg distance for field:',field_name,':',distance)\n",
    "            print('avg distance for all field:',np.mean(avg_distacnes))\n",
    "            \n",
    "    final_embeddings = normalized_embeddings.eval()"
   ]
  },
  {
   "cell_type": "code",
   "execution_count": null,
   "metadata": {
    "collapsed": false
   },
   "outputs": [],
   "source": [
    "f = open('./data/ipinyou/pre_trained_embs_72746_skip_cat_32.csv','w')\n",
    "for line in final_embeddings:\n",
    "    f.write(','.join([str(l) for l in line])+'\\n')\n",
    "f.close()\n",
    "print(np.array(final_embeddings).shape)"
   ]
  },
  {
   "cell_type": "code",
   "execution_count": null,
   "metadata": {
    "collapsed": false
   },
   "outputs": [],
   "source": [
    "%matplotlib inline\n",
    "figure_base_path = './figure/'\n",
    "import matplotlib.patches as mpatches\n",
    "def get_colors(cates):\n",
    "    import six\n",
    "    from matplotlib import colors\n",
    "    colors_ = list(six.iteritems(colors.cnames))\n",
    "    cates_set = list(set(cates))\n",
    "    colors_mapping = {}\n",
    "    for i in range(len(cates_set)):\n",
    "        colors_mapping[cates_set[i]] = colors_[i][0]\n",
    "    colors_mapping\n",
    "    cates = [colors_mapping.get(c) for c in cates]\n",
    "    return cates\n",
    "\n",
    "def plot_with_labels(low_dim_embs, labels, cates, filename='all_500sample.png'):\n",
    "    assert low_dim_embs.shape[0] >= len(labels), \"More labels than embeddings\"\n",
    "    plt.figure(figsize=(32, 32))  #in inches\n",
    "    cates = get_colors(cates)\n",
    "    for i, label in enumerate(labels):\n",
    "        x, y = low_dim_embs[i,:]\n",
    "        plt.scatter(x, y, c=cates[i])\n",
    "#         if 'bag' in  label or 'automobile' in label or 'paren' in label or 'healt' in label:\n",
    "# #             print label\n",
    "#             plt.annotate(label,\n",
    "#                      xy=(x, y),\n",
    "#                      xytext=(0.8, 0.95),\n",
    "#                      textcoords='offset points',\n",
    "#                      ha='left',\n",
    "#                      va='bottom',\n",
    "#                         size=22)\n",
    "#         elif 'male' in label:\n",
    "#             plt.annotate(label,\n",
    "#                      xy=(x, y),\n",
    "#                      xytext=(0.8, 0.95),\n",
    "#                      textcoords='offset points',\n",
    "#                      ha='right',\n",
    "#                      va='bottom',\n",
    "#                      color='#ee8d18',\n",
    "#                         size=22)\n",
    "#         else:\n",
    "        plt.annotate(label,\n",
    "                 xy=(x, y),\n",
    "                 xytext=(0.8, 0.95),\n",
    "                 textcoords='offset points',\n",
    "                 ha='right',\n",
    "                 va='top',\n",
    "                    size=15)\n",
    "    plt.savefig(figure_base_path + filename,format='pdf', )\n",
    "    plt.show()"
   ]
  },
  {
   "cell_type": "code",
   "execution_count": null,
   "metadata": {
    "collapsed": false
   },
   "outputs": [],
   "source": [
    "try:\n",
    "    from sklearn.manifold import TSNE\n",
    "    import matplotlib.pyplot as plt\n",
    "    tsne = TSNE(perplexity=30, n_components=2, init='pca', n_iter=5000)\n",
    "    plot_only = 500\n",
    "    low_dim_embs = tsne.fit_transform(final_embeddings[:plot_only,:])\n",
    "    labels = [reverse_dictionary[i].split('_')[-1] for i in xrange(plot_only)]\n",
    "    cates = [reverse_dictionary[i].split('_')[0] for i in xrange(plot_only)]\n",
    "    plot_with_labels(low_dim_embs, labels, cates ,filename='all_500_skip_cat_32.pdf')\n",
    "\n",
    "except ImportError:\n",
    "    print(\"Please install sklearn and matplotlib to visualize embeddings.\")\n"
   ]
  },
  {
   "cell_type": "code",
   "execution_count": null,
   "metadata": {
    "collapsed": false
   },
   "outputs": [],
   "source": [
    "# colors\n",
    "\n",
    "# set(cates"
   ]
  },
  {
   "cell_type": "code",
   "execution_count": null,
   "metadata": {
    "collapsed": true
   },
   "outputs": [],
   "source": []
  },
  {
   "cell_type": "markdown",
   "metadata": {},
   "source": [
    "# Figure for city and region"
   ]
  },
  {
   "cell_type": "code",
   "execution_count": null,
   "metadata": {
    "collapsed": false
   },
   "outputs": [],
   "source": [
    "# for city and region\n",
    "index = []\n",
    "for key in dictionary.keys():\n",
    "    if 'city' in key or 'region' in key:\n",
    "        index.append(dictionary[key])\n",
    "tsne = TSNE(perplexity=10, n_components=2, init='pca', n_iter=1500)\n",
    "low_dim_embs = tsne.fit_transform(final_embeddings[index])\n",
    "labels = [reverse_dictionary[i].split('_')[-1] for i in index]\n",
    "cates = [reverse_dictionary[i].split('_')[0] for i in index]\n",
    "plot_with_labels(low_dim_embs, labels, cates ,filename='city_region_skip_cat_32.pdf')\n",
    "# plot_with_labels(low_dim_embs, labels, c, )"
   ]
  },
  {
   "cell_type": "markdown",
   "metadata": {},
   "source": [
    "# Figure for tag"
   ]
  },
  {
   "cell_type": "code",
   "execution_count": null,
   "metadata": {
    "collapsed": false
   },
   "outputs": [],
   "source": [
    "# # for tag\n",
    "index = []\n",
    "\n",
    "for key in dictionary.keys():\n",
    "    if 'user_tags' in key:\n",
    "        index.append(dictionary[key])\n",
    "if len(index) > 500:\n",
    "    index = index[0:500]\n",
    "tsne = TSNE(perplexity=20, n_components=2, init='pca', n_iter=1000)\n",
    "low_dim_embs = tsne.fit_transform(final_embeddings[index])\n",
    "labels = [str(reverse_dictionary.get(i)).decode('utf-8').split('_')[-1] for i in index]\n",
    "cates = [reverse_dictionary[i].split('_')[-2] for i in index]\n",
    "plot_with_labels(low_dim_embs, labels, cates ,filename='tags_skip_cat_32.pdf')\n",
    "# plot_with_labels(low_dim_embs, labels)"
   ]
  },
  {
   "cell_type": "markdown",
   "metadata": {},
   "source": [
    "# Figure for domain"
   ]
  },
  {
   "cell_type": "code",
   "execution_count": null,
   "metadata": {
    "collapsed": false
   },
   "outputs": [],
   "source": [
    "# # for domain, url, ip\n",
    "# index = []\n",
    "# for key in dictionary.keys():\n",
    "#     if 'domain' in key:\n",
    "#         index.append(dictionary[key])\n",
    "# if len(index) > 500:\n",
    "#     index = index[0:500]\n",
    "# tsne = TSNE(perplexity=30, n_components=2, init='pca', n_iter=500)\n",
    "# low_dim_embs = tsne.fit_transform(final_embeddings[index])\n",
    "# labels = [reverse_dictionary[i] for i in index]\n",
    "# plot_with_labels(low_dim_embs, labels)"
   ]
  },
  {
   "cell_type": "code",
   "execution_count": null,
   "metadata": {
    "collapsed": false
   },
   "outputs": [],
   "source": [
    "# index = []\n",
    "# for key in dictionary.keys():\n",
    "#     if 'adversiter_id' in key:\n",
    "#         index.append(dictionary[key])\n",
    "# if len(index) > 500:\n",
    "#     index = index[0:500]\n",
    "# tsne = TSNE(perplexity=30, n_components=2, init='pca', n_iter=500)\n",
    "# low_dim_embs = tsne.fit_transform(final_embeddings[index])\n",
    "# labels = [reverse_dictionary[i] for i in index]\n",
    "# plot_with_labels(low_dim_embs, labels)"
   ]
  },
  {
   "cell_type": "markdown",
   "metadata": {},
   "source": [
    "# Figure for user agent"
   ]
  },
  {
   "cell_type": "code",
   "execution_count": null,
   "metadata": {
    "collapsed": false
   },
   "outputs": [],
   "source": [
    "# index = []\n",
    "# for key in dictionary.keys():\n",
    "#     if 'user_agent' in key:\n",
    "#         index.append(dictionary[key])\n",
    "# if len(index) > 500:\n",
    "#     index = index[0:500]\n",
    "# tsne = TSNE(perplexity=30, n_components=2, init='pca', n_iter=500)\n",
    "# low_dim_embs = tsne.fit_transform(final_embeddings[index])\n",
    "# labels = [reverse_dictionary[i] for i in index]\n",
    "# plot_with_labels(low_dim_embs, labels)"
   ]
  },
  {
   "cell_type": "markdown",
   "metadata": {},
   "source": [
    "# Figure for ip"
   ]
  },
  {
   "cell_type": "code",
   "execution_count": null,
   "metadata": {
    "collapsed": false
   },
   "outputs": [],
   "source": [
    "# index = []\n",
    "# for key in dictionary.keys():\n",
    "#     if 'ip' in key:\n",
    "#         index.append(dictionary[key])\n",
    "# if len(index) > 500:\n",
    "#     index = index[0:500]\n",
    "# tsne = TSNE(perplexity=30, n_components=2, init='pca', n_iter=500)\n",
    "# low_dim_embs = tsne.fit_transform(final_embeddings[index])\n",
    "# labels = [reverse_dictionary[i] for i in index]\n",
    "# plot_with_labels(low_dim_embs, labels)"
   ]
  },
  {
   "cell_type": "markdown",
   "metadata": {},
   "source": [
    "# Figure for url"
   ]
  },
  {
   "cell_type": "code",
   "execution_count": null,
   "metadata": {
    "collapsed": false
   },
   "outputs": [],
   "source": [
    "# index = []\n",
    "# for key in dictionary.keys():\n",
    "#     if 'url' in key:\n",
    "#         index.append(dictionary[key])\n",
    "# if len(index) > 500:\n",
    "#     index = index[0:500]\n",
    "# tsne = TSNE(perplexity=30, n_components=2, init='pca', n_iter=500)\n",
    "# low_dim_embs = tsne.fit_transform(final_embeddings[index])\n",
    "# labels = [reverse_dictionary[i] for i in index]\n",
    "# plot_with_labels(low_dim_embs, labels)"
   ]
  },
  {
   "cell_type": "code",
   "execution_count": null,
   "metadata": {
    "collapsed": true
   },
   "outputs": [],
   "source": []
  },
  {
   "cell_type": "code",
   "execution_count": null,
   "metadata": {
    "collapsed": true
   },
   "outputs": [],
   "source": []
  }
 ],
 "metadata": {
  "kernelspec": {
   "display_name": "Python 2",
   "language": "python",
   "name": "python2"
  },
  "language_info": {
   "codemirror_mode": {
    "name": "ipython",
    "version": 2
   },
   "file_extension": ".py",
   "mimetype": "text/x-python",
   "name": "python",
   "nbconvert_exporter": "python",
   "pygments_lexer": "ipython2",
   "version": "2.7.6"
  }
 },
 "nbformat": 4,
 "nbformat_minor": 0
}
