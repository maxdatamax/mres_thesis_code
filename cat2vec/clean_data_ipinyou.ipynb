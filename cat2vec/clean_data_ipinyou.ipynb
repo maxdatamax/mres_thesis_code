{
 "cells": [
  {
   "cell_type": "code",
   "execution_count": 4,
   "metadata": {
    "collapsed": true
   },
   "outputs": [],
   "source": [
    "import numpy as np\n",
    "import pandas as pd"
   ]
  },
  {
   "cell_type": "code",
   "execution_count": 5,
   "metadata": {
    "collapsed": false
   },
   "outputs": [],
   "source": [
    "mapping_base_path = './data/'\n",
    "city_path = mapping_base_path + 'city.en.txt'\n",
    "region_path = mapping_base_path + 'region.en.txt'\n",
    "tag_path = mapping_base_path + 'user.profile.tags.en.txt'\n",
    "city_mapping = {str(x[0]):x[1] for x in np.array(pd.read_csv(city_path, header=None, sep='\\t'))}\n",
    "region_mapping = {str(x[0]):x[1] for x in np.array(pd.read_csv(region_path, header=None, sep='\\t'))}\n",
    "tag_mapping = {str(x[0]):x[1] for x in np.array(pd.read_csv(tag_path, header=None, sep='\\t'))}"
   ]
  },
  {
   "cell_type": "code",
   "execution_count": 6,
   "metadata": {
    "collapsed": false
   },
   "outputs": [],
   "source": [
    "header = ['click','weekday','hour','timestamp','log_type',\n",
    "          'user_id','user_agent','ip','region','city','ad_exchange',\n",
    "          'domain','url','anonymous_url_id','ad_slot_id','ad_slot_width',\n",
    "          'ad_slot_height','ad_slot_visibility','ad_slot_format','ad_slot_floor_price',\n",
    "          'creative_id','key_page_url','adversiter_id','user_tags']\n",
    "raw_data = pd.read_csv('./data/data_train.txt', header=None, sep='\\t')"
   ]
  },
  {
   "cell_type": "code",
   "execution_count": 7,
   "metadata": {
    "collapsed": false
   },
   "outputs": [],
   "source": [
    "field_cates = {x:set() for x in header if x not in set(['anonymous_url_id'])}"
   ]
  },
  {
   "cell_type": "code",
   "execution_count": 8,
   "metadata": {
    "collapsed": true
   },
   "outputs": [],
   "source": [
    "raw_data.columns = header"
   ]
  },
  {
   "cell_type": "code",
   "execution_count": 9,
   "metadata": {
    "collapsed": false
   },
   "outputs": [
    {
     "name": "stdout",
     "output_type": "stream",
     "text": [
      "(2847802, 23)\n",
      "(2847802,)\n"
     ]
    }
   ],
   "source": [
    "Y = np.array(raw_data['click'])\n",
    "X = np.array(raw_data[header[1:len(header)]])\n",
    "X_header = header[1:len(header)]\n",
    "print X.shape\n",
    "print Y.shape"
   ]
  },
  {
   "cell_type": "code",
   "execution_count": null,
   "metadata": {
    "collapsed": true
   },
   "outputs": [],
   "source": []
  },
  {
   "cell_type": "code",
   "execution_count": 10,
   "metadata": {
    "collapsed": false
   },
   "outputs": [],
   "source": [
    "# region_city_pair = []\n",
    "# os_browser_pair = []\n",
    "# for x in X:\n",
    "#     region_index = x[7]\n",
    "#     city_index = x[8]\n",
    "#     if city_mapping.get(str(city_index)) is not None and  region_mapping.get(str(region_index)) is not None:\n",
    "#         city = 'city_' + city_mapping.get(str(city_index))\n",
    "#         region = 'region_' + region_mapping.get(str(region_index))\n",
    "#         region_city_pair.append((region,city))\n",
    "#     user_agent = x[5]\n",
    "#     value = user_agent.split('_')\n",
    "#     os_browser_pair.append(('user_agent_os_'+value[0],'user_agent_browser_'+value[1]))\n",
    "# region_city_pair = list(set(region_city_pair))\n",
    "# f = open('./data/questions.txt','w')\n",
    "# f.write(\":region-city\\n\")\n",
    "# for i in range(len(region_city_pair)):\n",
    "#     for j in range(i+1,len(region_city_pair)):\n",
    "#         content = ' '.join([region_city_pair[i][0],region_city_pair[i][1],region_city_pair[j][0],region_city_pair[j][1]])\n",
    "#         content += '\\n'\n",
    "#         f.write(content)\n",
    "# f.close()"
   ]
  },
  {
   "cell_type": "code",
   "execution_count": null,
   "metadata": {
    "collapsed": false
   },
   "outputs": [],
   "source": []
  },
  {
   "cell_type": "code",
   "execution_count": 18,
   "metadata": {
    "collapsed": false
   },
   "outputs": [],
   "source": [
    "def clean_by_line(line, header):\n",
    "    rst = []\n",
    "    non_use_keys = set(['anonymous_url_id'])\n",
    "    for key,value in zip(header,line):\n",
    "        value = str(value)\n",
    "        key = str(key)\n",
    "        field = field_cates.get(key)\n",
    "        if value == '' or key in non_use_keys:\n",
    "            continue\n",
    "        elif key == 'city':\n",
    "            if city_mapping.get(str(value)) is not None:\n",
    "                value = city_mapping.get(str(value))\n",
    "                rst += [key+'_'+value]\n",
    "                field.add(key+'_'+value)\n",
    "        elif key == 'region':\n",
    "            if region_mapping.get(str(value)) is not None:\n",
    "                value = region_mapping.get(str(value))\n",
    "                rst += [key+'_'+value]\n",
    "                field.add(key+'_'+value)\n",
    "        elif key == 'timestamp':\n",
    "            rst += ['time_day_'+value[6:8]]\n",
    "            field.add(key+'_'+value)\n",
    "        elif key == 'user_agent':\n",
    "            value = value.split('_')\n",
    "            rst += ['user_agent_os_'+value[0]]\n",
    "            rst += ['user_agent_browser_'+value[1]]\n",
    "            field.add('user_agent_os_'+value[0])\n",
    "            field.add('user_agent_browser_'+value[1])\n",
    "        elif key == 'user_tags':\n",
    "            for sub_value in value.split(','):\n",
    "                rst += ['user_tags_'+str(tag_mapping.get(str(sub_value)))]\n",
    "                field.add('user_tags_'+str(tag_mapping.get(str(sub_value))))\n",
    "        else:\n",
    "            rst += [key+'_'+value]\n",
    "            field.add(key+'_'+value)             \n",
    "    return rst"
   ]
  },
  {
   "cell_type": "code",
   "execution_count": 19,
   "metadata": {
    "collapsed": false
   },
   "outputs": [],
   "source": [
    "X_1 = []\n",
    "for x in X:\n",
    "    X_1.append(clean_by_line(x,X_header))"
   ]
  },
  {
   "cell_type": "code",
   "execution_count": 20,
   "metadata": {
    "collapsed": false
   },
   "outputs": [
    {
     "name": "stdout",
     "output_type": "stream",
     "text": [
      "('domain', 15146)\n",
      "('ad_slot_width', 11)\n",
      "('ip', 489690)\n",
      "('adversiter_id', 1)\n",
      "('key_page_url', 2)\n",
      "('click', 0)\n",
      "('city', 334)\n",
      "('user_id', 2641292)\n",
      "('ad_slot_format', 3)\n",
      "('user_tags', 44)\n",
      "('creative_id', 11)\n",
      "('user_agent', 15)\n",
      "('timestamp', 2434838)\n",
      "('ad_slot_visibility', 4)\n",
      "('log_type', 1)\n",
      "('ad_slot_height', 6)\n",
      "('hour', 24)\n",
      "('url', 715316)\n",
      "('region', 35)\n",
      "('ad_exchange', 3)\n",
      "('weekday', 7)\n",
      "('ad_slot_floor_price', 197)\n",
      "('ad_slot_id', 51529)\n"
     ]
    }
   ],
   "source": [
    "# np.random.shuffle(np.array(X_1))\n",
    "for key in field_cates.keys():\n",
    "    print(key,len(field_cates.get(key)))"
   ]
  },
  {
   "cell_type": "code",
   "execution_count": 22,
   "metadata": {
    "collapsed": false,
    "scrolled": false
   },
   "outputs": [],
   "source": [
    "# # np.array(X_1)\n",
    "# for i in range(10):\n",
    "#     print len(X_1[i])\n",
    "# X_1[0:10]\n",
    "X = X_1"
   ]
  },
  {
   "cell_type": "code",
   "execution_count": 23,
   "metadata": {
    "collapsed": false
   },
   "outputs": [],
   "source": [
    "# X[0:10]"
   ]
  },
  {
   "cell_type": "code",
   "execution_count": 24,
   "metadata": {
    "collapsed": false
   },
   "outputs": [
    {
     "name": "stdout",
     "output_type": "stream",
     "text": [
      "2847802\n"
     ]
    }
   ],
   "source": [
    "import itertools\n",
    "from collections import Counter\n",
    "X_index = np.copy(X)\n",
    "print len(X_index)"
   ]
  },
  {
   "cell_type": "code",
   "execution_count": 25,
   "metadata": {
    "collapsed": false
   },
   "outputs": [],
   "source": [
    "counts = Counter(itertools.chain(*X_index))"
   ]
  },
  {
   "cell_type": "code",
   "execution_count": 26,
   "metadata": {
    "collapsed": true
   },
   "outputs": [],
   "source": [
    "MIN_THRESHOLD = 10"
   ]
  },
  {
   "cell_type": "code",
   "execution_count": 27,
   "metadata": {
    "collapsed": false
   },
   "outputs": [],
   "source": [
    "# Mapping from index to word\n",
    "filtered_feature_list = [x[0] for x in counts.most_common() if x[1] > MIN_THRESHOLD and x[1] < len(X_index)]\n",
    "filtered_feature_set = set(filtered_feature_list)\n",
    "# Mapping from word to index\n",
    "inverse_index = {x: i for i, x in enumerate(filtered_feature_list)}"
   ]
  },
  {
   "cell_type": "code",
   "execution_count": 28,
   "metadata": {
    "collapsed": false
   },
   "outputs": [
    {
     "name": "stdout",
     "output_type": "stream",
     "text": [
      "72746\n"
     ]
    }
   ],
   "source": [
    "print(len(inverse_index.keys()))"
   ]
  },
  {
   "cell_type": "code",
   "execution_count": 33,
   "metadata": {
    "collapsed": false
   },
   "outputs": [],
   "source": [
    "# inverse_index"
   ]
  },
  {
   "cell_type": "code",
   "execution_count": 35,
   "metadata": {
    "collapsed": true
   },
   "outputs": [],
   "source": [
    "# field_cates['']\n",
    "field_cates_index = {}\n",
    "for key in field_cates.keys():\n",
    "    field_cates_index[key] = [inverse_index.get(f) for f in field_cates.get(key) if inverse_index.get(f) is not None]\n",
    "#     print(key,len(field_cates.get(key)))"
   ]
  },
  {
   "cell_type": "code",
   "execution_count": 37,
   "metadata": {
    "collapsed": false
   },
   "outputs": [],
   "source": [
    "# field_cates_index"
   ]
  },
  {
   "cell_type": "code",
   "execution_count": 38,
   "metadata": {
    "collapsed": false
   },
   "outputs": [
    {
     "name": "stdout",
     "output_type": "stream",
     "text": [
      "('domain', 15146)\n",
      "('ad_slot_width', 11)\n",
      "('ip', 489690)\n",
      "('adversiter_id', 1)\n",
      "('key_page_url', 2)\n",
      "('click', 0)\n",
      "('city', 334)\n",
      "('user_id', 2641292)\n",
      "('ad_slot_format', 3)\n",
      "('user_tags', 44)\n",
      "('creative_id', 11)\n",
      "('user_agent', 15)\n",
      "('timestamp', 2434838)\n",
      "('ad_slot_visibility', 4)\n",
      "('log_type', 1)\n",
      "('ad_slot_height', 6)\n",
      "('hour', 24)\n",
      "('url', 715316)\n",
      "('region', 35)\n",
      "('ad_exchange', 3)\n",
      "('weekday', 7)\n",
      "('ad_slot_floor_price', 197)\n",
      "('ad_slot_id', 51529)\n",
      "-----------------\n",
      "('domain', 3814)\n",
      "('ad_slot_format', 3)\n",
      "('ip', 43222)\n",
      "('adversiter_id', 0)\n",
      "('key_page_url', 2)\n",
      "('click', 0)\n",
      "('city', 334)\n",
      "('user_id', 14)\n",
      "('ad_slot_width', 11)\n",
      "('user_tags', 44)\n",
      "('creative_id', 11)\n",
      "('user_agent', 15)\n",
      "('timestamp', 0)\n",
      "('ad_slot_visibility', 4)\n",
      "('log_type', 0)\n",
      "('ad_slot_height', 6)\n",
      "('hour', 24)\n",
      "('url', 18386)\n",
      "('region', 35)\n",
      "('ad_exchange', 3)\n",
      "('weekday', 7)\n",
      "('ad_slot_floor_price', 97)\n",
      "('ad_slot_id', 6707)\n"
     ]
    }
   ],
   "source": [
    "for key in field_cates.keys():\n",
    "    print(key,len(field_cates.get(key)))\n",
    "print('-----------------')\n",
    "for key in field_cates_index.keys():\n",
    "    print(key,len(field_cates_index.get(key)))"
   ]
  },
  {
   "cell_type": "code",
   "execution_count": 46,
   "metadata": {
    "collapsed": false
   },
   "outputs": [],
   "source": [
    "field_cates_index_f = open('./data/ipinyou/field_cates_index_not_aligned.csv','w')\n",
    "for key in field_cates_index.keys():\n",
    "    if(len(field_cates_index.get(key)) > 0):\n",
    "        field_cates_index_f.write(key+'\\t'+','.join([str(i) for i in field_cates_index.get(key)])+'\\n')"
   ]
  },
  {
   "cell_type": "code",
   "execution_count": 43,
   "metadata": {
    "collapsed": false
   },
   "outputs": [],
   "source": [
    "f_reverse_dict = open('./data/ipinyou/reverse_dictionary_not_aligned.csv','w')\n",
    "for key in inverse_index.keys():\n",
    "    f_reverse_dict.write(key+','+str(inverse_index.get(key))+'\\n')\n",
    "f_reverse_dict.close()"
   ]
  },
  {
   "cell_type": "code",
   "execution_count": 44,
   "metadata": {
    "collapsed": false
   },
   "outputs": [
    {
     "name": "stdout",
     "output_type": "stream",
     "text": [
      "2847802 2847802\n"
     ]
    }
   ],
   "source": [
    "print len(Y),len(X)"
   ]
  },
  {
   "cell_type": "code",
   "execution_count": 47,
   "metadata": {
    "collapsed": false
   },
   "outputs": [
    {
     "name": "stdout",
     "output_type": "stream",
     "text": [
      "2847802\n"
     ]
    }
   ],
   "source": [
    "f = open('./data/ipinyou/training_not_aligned.csv','w')\n",
    "f_label = open('./data/ipinyou/labels.csv','w')\n",
    "count = 0\n",
    "X = np.array(X)\n",
    "for i in range(len(X)):\n",
    "    line = str(','.join([str(inverse_index.get(x)) for x in X[i] if inverse_index.get(x) != None]))\n",
    "    f.write(line+'\\n')\n",
    "    f_label.write(str(Y[i]) + '\\n')\n",
    "    count += 1\n",
    "f.close()\n",
    "print count"
   ]
  },
  {
   "cell_type": "code",
   "execution_count": null,
   "metadata": {
    "collapsed": true
   },
   "outputs": [],
   "source": []
  }
 ],
 "metadata": {
  "kernelspec": {
   "display_name": "Python 2",
   "language": "python",
   "name": "python2"
  },
  "language_info": {
   "codemirror_mode": {
    "name": "ipython",
    "version": 2
   },
   "file_extension": ".py",
   "mimetype": "text/x-python",
   "name": "python",
   "nbconvert_exporter": "python",
   "pygments_lexer": "ipython2",
   "version": "2.7.6"
  }
 },
 "nbformat": 4,
 "nbformat_minor": 0
}
