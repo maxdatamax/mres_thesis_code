{
 "cells": [
  {
   "cell_type": "code",
   "execution_count": 1,
   "metadata": {
    "collapsed": true
   },
   "outputs": [],
   "source": [
    "import numpy as np\n",
    "import pandas as pd"
   ]
  },
  {
   "cell_type": "code",
   "execution_count": 2,
   "metadata": {
    "collapsed": false
   },
   "outputs": [],
   "source": [
    "mapping_base_path = './data/'\n",
    "city_path = mapping_base_path + 'city.en.txt'\n",
    "region_path = mapping_base_path + 'region.en.txt'\n",
    "tag_path = mapping_base_path + 'user.profile.tags.en.txt'\n",
    "city_mapping = {str(x[0]):x[1] for x in np.array(pd.read_csv(city_path, header=None, sep='\\t'))}\n",
    "region_mapping = {str(x[0]):x[1] for x in np.array(pd.read_csv(region_path, header=None, sep='\\t'))}\n",
    "tag_mapping = {str(x[0]):x[1] for x in np.array(pd.read_csv(tag_path, header=None, sep='\\t'))}"
   ]
  },
  {
   "cell_type": "code",
   "execution_count": 3,
   "metadata": {
    "collapsed": false
   },
   "outputs": [],
   "source": [
    "header = ['click','weekday','hour','timestamp','log_type',\n",
    "          'user_id','user_agent','ip','region','city','ad_exchange',\n",
    "          'domain','url','anonymous_url_id','ad_slot_id','ad_slot_width',\n",
    "          'ad_slot_height','ad_slot_visibility','ad_slot_format','ad_slot_floor_price',\n",
    "          'creative_id','key_page_url','adversiter_id','user_tags']\n",
    "raw_data = pd.read_csv('./data/data_train.txt', header=None, sep='\\t')"
   ]
  },
  {
   "cell_type": "code",
   "execution_count": 4,
   "metadata": {
    "collapsed": true
   },
   "outputs": [],
   "source": [
    "raw_data.columns = header"
   ]
  },
  {
   "cell_type": "code",
   "execution_count": 5,
   "metadata": {
    "collapsed": false
   },
   "outputs": [
    {
     "name": "stdout",
     "output_type": "stream",
     "text": [
      "(2847802, 23)\n",
      "(2847802,)\n"
     ]
    }
   ],
   "source": [
    "Y = np.array(raw_data['click'])\n",
    "X = np.array(raw_data[header[1:len(header)]])\n",
    "X_header = header[1:len(header)]\n",
    "print X.shape\n",
    "print Y.shape"
   ]
  },
  {
   "cell_type": "code",
   "execution_count": 6,
   "metadata": {
    "collapsed": false
   },
   "outputs": [],
   "source": [
    "def clean_by_line(line, header):\n",
    "    rst = []\n",
    "    non_use_keys = set(['anonymous_url_id'])\n",
    "    for key,value in zip(header,line):\n",
    "        value = str(value)\n",
    "        key = str(key)\n",
    "        if value == '' or key in non_use_keys:\n",
    "            continue\n",
    "        elif key == 'city':\n",
    "            if city_mapping.get(str(value)) is not None:\n",
    "                value = city_mapping.get(str(value))\n",
    "                rst += [key+'_'+value]\n",
    "        elif key == 'region':\n",
    "            if region_mapping.get(str(value)) is not None:\n",
    "                value = region_mapping.get(str(value))\n",
    "                rst += [key+'_'+value]\n",
    "        elif key == 'timestamp':\n",
    "            rst += ['time_day_'+value[6:8]]\n",
    "        elif key == 'user_agent':\n",
    "            value = value.split('_')\n",
    "            rst += ['user_agent_os_'+value[0]]\n",
    "            rst += ['user_agent_browser_'+value[1]]\n",
    "        elif key == 'user_tags':\n",
    "            for sub_value in value.split(','):\n",
    "                rst += ['user_tags_'+str(tag_mapping.get(str(sub_value)))]\n",
    "        else:\n",
    "            rst += [key+'_'+value]\n",
    "    return rst"
   ]
  },
  {
   "cell_type": "code",
   "execution_count": 7,
   "metadata": {
    "collapsed": false
   },
   "outputs": [
    {
     "name": "stdout",
     "output_type": "stream",
     "text": [
      "['weekday_6', 'hour_0', 'time_day_06', 'log_type_1', 'user_id_VhT3La5uDlaywOj', 'user_agent_os_windows', 'user_agent_browser_chrome', 'ip_122.233.40.*', 'region_zhejiang', 'city_hangzhou', 'ad_exchange_1', 'domain_trqRTummPvas1m58uG', 'url_762a1aa930e6f41c969e77226c62f3a7', 'ad_slot_id_mm_10058411_2865562_9929053', 'ad_slot_width_300', 'ad_slot_height_250', 'ad_slot_visibility_2', 'ad_slot_format_1', 'ad_slot_floor_price_0', 'creative_id_44966cc8da1ed40c95d59e863c8c75f0', 'key_page_url_361e128affece850342293213691a043', 'adversiter_id_3386', 'user_tags_Long-term interest/electronic game', 'user_tags_Long-term interest/entertainment', 'user_tags_Long-term interest/eduation', 'user_tags_Long-term interest/art&photography&design', 'user_tags_Long-term interest/online literature', 'user_tags_Demographic/gender/male']\n"
     ]
    }
   ],
   "source": [
    "X = [clean_by_line(x,X_header) for x in X]\n",
    "print X[0]"
   ]
  },
  {
   "cell_type": "code",
   "execution_count": 8,
   "metadata": {
    "collapsed": false
   },
   "outputs": [
    {
     "name": "stdout",
     "output_type": "stream",
     "text": [
      "2847802\n"
     ]
    }
   ],
   "source": [
    "import itertools\n",
    "from collections import Counter\n",
    "X_index = np.copy(X)\n",
    "print len(X_index)"
   ]
  },
  {
   "cell_type": "code",
   "execution_count": 9,
   "metadata": {
    "collapsed": false
   },
   "outputs": [],
   "source": [
    "counts = Counter(itertools.chain(*X_index))"
   ]
  },
  {
   "cell_type": "code",
   "execution_count": 10,
   "metadata": {
    "collapsed": true
   },
   "outputs": [],
   "source": [
    "MIN_THRESHOLD = 3"
   ]
  },
  {
   "cell_type": "code",
   "execution_count": 11,
   "metadata": {
    "collapsed": false
   },
   "outputs": [],
   "source": [
    "# Mapping from index to word\n",
    "filtered_feature_list = [x[0] for x in counts.most_common() if x[1] > MIN_THRESHOLD and x[1] < len(X_index)]\n",
    "filtered_feature_set = set(filtered_feature_list)\n",
    "# Mapping from word to index\n",
    "inverse_index = {x: i for i, x in enumerate(filtered_feature_list)}"
   ]
  },
  {
   "cell_type": "code",
   "execution_count": 12,
   "metadata": {
    "collapsed": false
   },
   "outputs": [],
   "source": [
    "f_reverse_dict = open('./data/reverse_dictionary.csv','w')\n",
    "for key in inverse_index.keys():\n",
    "    f_reverse_dict.write(key+','+str(inverse_index.get(key))+'\\n')\n",
    "f_reverse_dict.close()"
   ]
  },
  {
   "cell_type": "code",
   "execution_count": 13,
   "metadata": {
    "collapsed": false
   },
   "outputs": [
    {
     "name": "stdout",
     "output_type": "stream",
     "text": [
      "2847802 2847802\n"
     ]
    }
   ],
   "source": [
    "print len(Y),len(X)"
   ]
  },
  {
   "cell_type": "code",
   "execution_count": 14,
   "metadata": {
    "collapsed": false
   },
   "outputs": [
    {
     "name": "stdout",
     "output_type": "stream",
     "text": [
      "2847802\n"
     ]
    }
   ],
   "source": [
    "f = open('./data/training.csv','w')\n",
    "count = 0\n",
    "for i in range(len(Y)):\n",
    "    line = str(','.join([str(inverse_index.get(x)) for x in X[i] if inverse_index.get(x) != None]))\n",
    "    f.write(line+'\\n')\n",
    "    count += 1\n",
    "f.close()\n",
    "print count"
   ]
  },
  {
   "cell_type": "code",
   "execution_count": null,
   "metadata": {
    "collapsed": true
   },
   "outputs": [],
   "source": []
  }
 ],
 "metadata": {
  "kernelspec": {
   "display_name": "Python 2",
   "language": "python",
   "name": "python2"
  },
  "language_info": {
   "codemirror_mode": {
    "name": "ipython",
    "version": 2
   },
   "file_extension": ".py",
   "mimetype": "text/x-python",
   "name": "python",
   "nbconvert_exporter": "python",
   "pygments_lexer": "ipython2",
   "version": "2.7.10"
  }
 },
 "nbformat": 4,
 "nbformat_minor": 0
}
