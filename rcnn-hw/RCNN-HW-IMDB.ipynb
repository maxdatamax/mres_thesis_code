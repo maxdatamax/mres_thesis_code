{
 "cells": [
  {
   "cell_type": "code",
   "execution_count": 1,
   "metadata": {
    "collapsed": false
   },
   "outputs": [
    {
     "name": "stderr",
     "output_type": "stream",
     "text": [
      "Using Theano backend.\n"
     ]
    }
   ],
   "source": [
    "import numpy as np\n",
    "from keras.models import Sequential, Graph\n",
    "from keras.layers.core import Dense, Activation, Merge, Flatten, Dropout, Highway\n",
    "from keras.layers.wrappers import TimeDistributed\n",
    "from keras.layers import Embedding, Merge, LSTM, Dense, GRU, Recurrent\n",
    "from keras.layers.convolutional import Convolution1D, MaxPooling1D\n",
    "from keras.optimizers import SGD\n",
    "from keras.datasets import imdb\n",
    "from keras.preprocessing import sequence\n",
    "from keras.utils.np_utils import accuracy\n",
    "from keras import backend as K\n",
    "from keras.callbacks import EarlyStopping"
   ]
  },
  {
   "cell_type": "code",
   "execution_count": 2,
   "metadata": {
    "collapsed": true
   },
   "outputs": [],
   "source": [
    "np.random.seed(42)  # for reproducibility\n",
    "max_features = 10000\n",
    "sequence_length = 500\n",
    "embedding_size = 32\n",
    "hidden_dim = 32\n",
    "batch_size = 16"
   ]
  },
  {
   "cell_type": "code",
   "execution_count": 3,
   "metadata": {
    "collapsed": false
   },
   "outputs": [
    {
     "name": "stdout",
     "output_type": "stream",
     "text": [
      "Loading data...\n",
      "(20000, 'train sequences')\n",
      "(5000, 'test sequences')\n",
      "Pad sequences (samples x time)\n",
      "('X_train shape:', (20000, 500))\n",
      "('X_test shape:', (5000, 500))\n"
     ]
    }
   ],
   "source": [
    "print('Loading data...')\n",
    "(X_train, y_train), (X_dev, y_dev) = imdb.load_data(nb_words=max_features,\n",
    "                                                    test_split=0.2)\n",
    "print(len(X_train), 'train sequences')\n",
    "print(len(X_dev), 'test sequences')\n",
    "\n",
    "print('Pad sequences (samples x time)')\n",
    "X_train = sequence.pad_sequences(X_train, maxlen=sequence_length)\n",
    "X_dev = sequence.pad_sequences(X_dev, maxlen=sequence_length)\n",
    "print('X_train shape:', X_train.shape)\n",
    "print('X_test shape:', X_dev.shape)"
   ]
  },
  {
   "cell_type": "code",
   "execution_count": 4,
   "metadata": {
    "collapsed": true
   },
   "outputs": [],
   "source": [
    "model = Graph()\n",
    "model.add_input(name='input', input_shape=(sequence_length,), dtype='int')\n",
    "model.add_node(Embedding(max_features, embedding_size,\n",
    "                         input_length=sequence_length),\n",
    "               name='embedding', input='input')\n",
    "model.add_node(GRU(output_dim=hidden_dim, return_sequences=True),\n",
    "               name='fw', input='embedding')\n",
    "model.add_node(GRU(output_dim=hidden_dim, return_sequences=True,\n",
    "                   go_backwards=True), name='bw', input='embedding')\n",
    "model.add_node(TimeDistributed(Highway()), name='highway',\n",
    "               inputs=['bw', 'fw', 'embedding'], concat_axis=2,\n",
    "               merge_mode='concat')\n",
    "model.add_node(Convolution1D(512, 1, activation='relu'), name='cnn',\n",
    "               input='highway')\n",
    "model.add_node(MaxPooling1D(pool_length=sequence_length),\n",
    "               name='maxpooling', input='cnn')\n",
    "model.add_node(Flatten(), name='flatten', input='maxpooling')\n",
    "model.add_node(Dense(1, input_dim=embedding_size),\n",
    "               name='fullconnection', input='flatten')\n",
    "model.add_node(Activation('sigmoid'), name='sigmoid', input='fullconnection')\n",
    "model.add_output(name='output', input='sigmoid')\n",
    "model.compile(loss={'output': 'binary_crossentropy'},\n",
    "              optimizer='rmsprop', metrics=[\"accuracy\"])"
   ]
  },
  {
   "cell_type": "code",
   "execution_count": 5,
   "metadata": {
    "collapsed": false
   },
   "outputs": [
    {
     "name": "stdout",
     "output_type": "stream",
     "text": [
      "Train on 20000 samples, validate on 5000 samples\n",
      "Epoch 1/5\n",
      "704s - loss: 0.3843 - acc: 0.8216 - val_loss: 0.2740 - val_acc: 0.8842\n",
      "Epoch 2/5\n",
      "676s - loss: 0.2400 - acc: 0.9049 - val_loss: 0.2515 - val_acc: 0.9008\n",
      "Epoch 3/5\n",
      "650s - loss: 0.1904 - acc: 0.9269 - val_loss: 0.2499 - val_acc: 0.9034\n",
      "Epoch 4/5\n",
      "974s - loss: 0.1588 - acc: 0.9412 - val_loss: 0.3279 - val_acc: 0.8766\n",
      "Epoch 5/5\n",
      "646s - loss: 0.1332 - acc: 0.9525 - val_loss: 0.2565 - val_acc: 0.9040\n"
     ]
    },
    {
     "data": {
      "text/plain": [
       "<keras.callbacks.History at 0x11bb13e10>"
      ]
     },
     "execution_count": 5,
     "metadata": {},
     "output_type": "execute_result"
    }
   ],
   "source": [
    "early_stopping = EarlyStopping(monitor='val_acc', patience=2, verbose=0, mode='max')\n",
    "model.fit(\n",
    "    {'input': X_train, 'output': y_train},\n",
    "    batch_size=batch_size,\n",
    "    nb_epoch=5,\n",
    "    validation_data={'input': X_dev, 'output': y_dev},\n",
    "    verbose=2,\n",
    "    callbacks=[early_stopping]\n",
    ")"
   ]
  },
  {
   "cell_type": "code",
   "execution_count": null,
   "metadata": {
    "collapsed": true
   },
   "outputs": [],
   "source": []
  }
 ],
 "metadata": {
  "kernelspec": {
   "display_name": "Python 2",
   "language": "python",
   "name": "python2"
  },
  "language_info": {
   "codemirror_mode": {
    "name": "ipython",
    "version": 2
   },
   "file_extension": ".py",
   "mimetype": "text/x-python",
   "name": "python",
   "nbconvert_exporter": "python",
   "pygments_lexer": "ipython2",
   "version": "2.7.10"
  }
 },
 "nbformat": 4,
 "nbformat_minor": 0
}
